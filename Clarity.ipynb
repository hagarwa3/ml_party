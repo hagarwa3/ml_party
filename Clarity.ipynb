{
 "cells": [
  {
   "cell_type": "code",
   "execution_count": 30,
   "metadata": {
    "collapsed": true
   },
   "outputs": [],
   "source": [
    "from __future__ import print_function\n",
    "import numpy as np\n",
    "import matplotlib.pyplot as plt\n",
    "\n",
    "%matplotlib inline"
   ]
  },
  {
   "cell_type": "code",
   "execution_count": 31,
   "metadata": {
    "collapsed": false
   },
   "outputs": [],
   "source": [
    "fp_cnt = {}\n",
    "male_arrests = {}\n",
    "female_arrests = {}\n",
    "\n",
    "with open('clarity_dataset/FICT_ARREST_DATA.csv', 'r') as arrest_csv:\n",
    "    import csv\n",
    "    arrest_str_data = csv.reader(arrest_csv, delimiter=',')\n",
    "    skip = False\n",
    "    for row in arrest_str_data:\n",
    "        if not skip:\n",
    "            skip = True\n",
    "            continue\n",
    "            \n",
    "        gender = row.pop(7)\n",
    "        row.pop(6)\n",
    "        row.pop(5)\n",
    "        row.pop(4)\n",
    "        fp_id = row.pop(3)\n",
    "        \n",
    "        if gender == 'M':\n",
    "            if fp_id in male_arrests:\n",
    "                male_arrests[fp_id].append(row)\n",
    "            else:\n",
    "                male_arrests[fp_id] = [row]\n",
    "        else:\n",
    "            if fp_id in female_arrests:\n",
    "                female_arrests[fp_id].append(row)\n",
    "            else:\n",
    "                female_arrests[fp_id] = [row]"
   ]
  },
  {
   "cell_type": "code",
   "execution_count": 32,
   "metadata": {
    "collapsed": false
   },
   "outputs": [
    {
     "data": {
      "image/png": "[encoded data removed]",
      "text/plain": [
       "<matplotlib.figure.Figure at 0x7f2d56b0e1d0>"
      ]
     },
     "metadata": {},
     "output_type": "display_data"
    },
    {
     "name": "stdout",
     "output_type": "stream",
     "text": [
      "[['735792', '24-MAY-15 10:15', 'RESIDENCE PORCH/HALLWAY', '', 'TRESPASSING - REMAIN ON PROPERTY', '', '26', '363317'], ['1080531', '03-NOV-14 20:46', 'STREET', '', 'CANNABIS - POSSESS 2.5-10 GRMS', 'M', '18', '419873'], ['2258688', '16-MAR-13 11:40', 'STREET', '', 'CANNABIS - POSSESS CANNABIS/10-30 GRAMS/SUBQ', 'F', '18', '351603'], ['1523286', '23-MAR-14 16:16', 'STREET', '', 'CANNABIS - MFG/DEL - 30-500 GRMS', 'F', '18', '375988'], ['1489692', '09-APR-14 17:15', 'STREET', '', 'IVC - DRIVING UNDER INFLUENCE OF ALCOHOL', 'M', '21', ''], ['1351584', '18-JUN-14 03:07', 'STREET', '', 'LIGHT, TAIL LIGHTS REQUIRED', '', 'TRF', ''], ['2316843', '16-FEB-13 06:40', 'SIDEWALK', '', 'BATTERY - CAUSE BODILY HARM', 'M', '08B', '569818']]\n",
      "[['1371366', '07-JUN-14 22:54', 'ALLEY', '', 'CRIM DAMAGE PROP-KNOWINGLY DAMAGE <$300', 'M', '14', '536848']]\n",
      "\n",
      "\n",
      "Female arrests:  40116\n",
      "Male arrests:  159886\n"
     ]
    }
   ],
   "source": [
    "plt.bar([1,2], [len(male_arrests.keys()), len(female_arrests.keys())], align='center', width=0.5, color=['b', 'r'])\n",
    "plt.xticks([1,2], ['Men', 'Women'])\n",
    "plt.xlabel('Gender')\n",
    "plt.ylabel('Number of Arrests')\n",
    "plt.show()\n",
    "\n",
    "print(male_arrests[male_arrests.keys()[0]])\n",
    "print(female_arrests[female_arrests.keys()[0]])\n",
    "\n",
    "print(\"\\n\\nFemale arrests: \", len(female_arrests))\n",
    "print(\"Male arrests: \", len(male_arrests))"
   ]
  },
  {
   "cell_type": "code",
   "execution_count": 28,
   "metadata": {
    "collapsed": false
   },
   "outputs": [
    {
     "name": "stdout",
     "output_type": "stream",
     "text": [
      "Gunshot victims who were also arrested criminals:  5094\n"
     ]
    }
   ],
   "source": [
    "cnt = 0\n",
    "\n",
    "con_vic = {}\n",
    "\n",
    "with open('clarity_dataset/FICT_VICTIM_DATA.csv', 'r') as victim_csv:\n",
    "    import csv\n",
    "    victim_str_data = csv.reader(victim_csv, delimiter=',')\n",
    "    skip = False\n",
    "    for row in victim_str_data:\n",
    "        if not skip:\n",
    "            skip = True\n",
    "            continue\n",
    "    \n",
    "        if row[2] in male_arrests or row[2] in female_arrests:\n",
    "            cnt = cnt + 1\n",
    "    \n",
    "print('Gunshot victims who were also arrested criminals: ', cnt)"
   ]
  },
  {
   "cell_type": "code",
   "execution_count": null,
   "metadata": {
    "collapsed": true
   },
   "outputs": [],
   "source": []
  }
 ],
 "metadata": {
  "kernelspec": {
   "display_name": "Python 2",
   "language": "python",
   "name": "python2"
  },
  "language_info": {
   "codemirror_mode": {
    "name": "ipython",
    "version": 2
   },
   "file_extension": ".py",
   "mimetype": "text/x-python",
   "name": "python",
   "nbconvert_exporter": "python",
   "pygments_lexer": "ipython2",
   "version": "2.7.6"
  }
 },
 "nbformat": 4,
 "nbformat_minor": 0
}
